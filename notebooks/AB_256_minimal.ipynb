{
  "cells": [
    {
      "cell_type": "raw",
      "metadata": {
        "vscode": {
          "languageId": "raw"
        }
      },
      "source": [
        "# A/B-256 Minimal Visualization\n",
        "本 notebook 对 A-256 与 B-256 的伪标签统计与分布做最小可视化对比。\n"
      ]
    },
    {
      "cell_type": "code",
      "execution_count": null,
      "metadata": {},
      "outputs": [],
      "source": [
        "# 标题: 依赖与路径\n",
        "import os, pickle\n",
        "import numpy as np\n",
        "import pandas as pd\n",
        "from pathlib import Path\n",
        "import matplotlib.pyplot as plt\n",
        "from sklearn.metrics import roc_auc_score\n",
        "\n",
        "A_DIR = Path('/workspace/outputs/A-256')\n",
        "B_DIR = Path('/workspace/outputs/B-256')\n",
        "\n",
        "plt.rcParams['figure.figsize']=(6,4)\n",
        "\n",
        "print('A_DIR exists:', A_DIR.exists())\n",
        "print('B_DIR exists:', B_DIR.exists())\n"
      ]
    },
    {
      "cell_type": "code",
      "execution_count": null,
      "metadata": {},
      "outputs": [],
      "source": [
        "# 标题: 汇总统计（epoch_init/epoch4）\n",
        "\n",
        "def load_pseudo(base: Path):\n",
        "    out={}\n",
        "    for sub in ['epoch_init','epoch4']:\n",
        "        p=base/ sub / 'ins_pseudo_label_train.p'\n",
        "        if not p.exists():\n",
        "            continue\n",
        "        d=pickle.load(open(p,'rb'))\n",
        "        tumor=[]; normal=[]; y=[]; s=[]\n",
        "        for bag,m in d.items():\n",
        "            for k,v in m.items():\n",
        "                if 'tumor' in bag:\n",
        "                    tumor.append(v); y.append(1); s.append(v)\n",
        "                else:\n",
        "                    normal.append(v); y.append(0); s.append(v)\n",
        "        tumor=np.array(tumor); normal=np.array(normal)\n",
        "        stats={\n",
        "            'n_total': int(len(s)),\n",
        "            'n_tumor': int(len(tumor)),\n",
        "            'n_normal': int(len(normal)),\n",
        "            'mean_tumor': float(np.mean(tumor)) if len(tumor)>0 else np.nan,\n",
        "            'mean_normal': float(np.mean(normal)) if len(normal)>0 else np.nan,\n",
        "            'p>0.5_tumor': float(np.mean(tumor>0.5)) if len(tumor)>0 else np.nan,\n",
        "            'p>0.5_normal': float(np.mean(normal>0.5)) if len(normal)>0 else np.nan,\n",
        "        }\n",
        "        try:\n",
        "            auc=roc_auc_score(y,s)\n",
        "        except Exception:\n",
        "            auc=np.nan\n",
        "        stats['instance_auc']=auc\n",
        "        out[sub]=stats\n",
        "    return out\n",
        "\n",
        "stats_A=load_pseudo(A_DIR)\n",
        "stats_B=load_pseudo(B_DIR)\n",
        "\n",
        "pd.DataFrame({'A-256':stats_A, 'B-256':stats_B}).T\n"
      ]
    },
    {
      "cell_type": "code",
      "execution_count": null,
      "metadata": {},
      "outputs": [],
      "source": [
        "# 标题: 直方图对比（epoch4）\n",
        "import matplotlib.pyplot as plt\n",
        "\n",
        "def plot_hist(base: Path, title: str):\n",
        "    p=base/'epoch4'/'ins_pseudo_label_train.p'\n",
        "    if not p.exists():\n",
        "        print('missing:', p)\n",
        "        return\n",
        "    d=pickle.load(open(p,'rb'))\n",
        "    tumor=[]; normal=[]\n",
        "    for bag,m in d.items():\n",
        "        for k,v in m.items():\n",
        "            (tumor if 'tumor' in bag else normal).append(v)\n",
        "    plt.figure()\n",
        "    plt.hist(tumor, bins=30, alpha=0.6, label='tumor', color='red')\n",
        "    plt.hist(normal, bins=30, alpha=0.6, label='normal', color='blue')\n",
        "    plt.axvline(0.5, ls='--', color='k', alpha=0.5)\n",
        "    plt.title(title+' epoch4 pseudo scores')\n",
        "    plt.legend(); plt.show()\n",
        "\n",
        "plot_hist(A_DIR, 'A-256')\n",
        "plot_hist(B_DIR, 'B-256')\n"
      ]
    },
    {
      "cell_type": "code",
      "execution_count": null,
      "metadata": {},
      "outputs": [],
      "source": [
        "# 标题: 指标条形图（epoch_init vs epoch4）\n",
        "import pandas as pd\n",
        "\n",
        "def to_df(tag, stats):\n",
        "    rows=[]\n",
        "    for ep, m in stats.items():\n",
        "        rows.append({'exp':tag,'epoch':ep,'auc':m.get('instance_auc',float('nan')),\n",
        "                     'p>0.5_tumor':m.get('p>0.5_tumor',float('nan')),\n",
        "                     'p>0.5_normal':m.get('p>0.5_normal',float('nan'))})\n",
        "    return pd.DataFrame(rows)\n",
        "\n",
        "df=pd.concat([to_df('A-256', stats_A), to_df('B-256', stats_B)], ignore_index=True)\n",
        "\n",
        "for metric in ['auc','p>0.5_tumor','p>0.5_normal']:\n",
        "    pivot=df.pivot(index='exp', columns='epoch', values=metric)\n",
        "    cols=[c for c in ['epoch_init','epoch4'] if c in pivot.columns]\n",
        "    if cols:\n",
        "        pivot[cols].plot(kind='bar', title=metric)\n",
        "        plt.axhline(0.5 if metric=='auc' else 0.5, ls='--', color='k', alpha=0.3)\n",
        "        plt.show()\n"
      ]
    }
  ],
  "metadata": {
    "language_info": {
      "name": "python"
    }
  },
  "nbformat": 4,
  "nbformat_minor": 2
}
